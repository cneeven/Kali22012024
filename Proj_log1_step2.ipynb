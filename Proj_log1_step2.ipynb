{
 "cells": [
  {
   "cell_type": "code",
   "execution_count": 7,
   "id": "a9abc279",
   "metadata": {},
   "outputs": [
    {
     "ename": "SyntaxError",
     "evalue": "invalid syntax (1049401111.py, line 2)",
     "output_type": "error",
     "traceback": [
      "\u001b[1;36m  Cell \u001b[1;32mIn[7], line 2\u001b[1;36m\u001b[0m\n\u001b[1;33m    return ecart*risque/indice indice_boursiere\u001b[0m\n\u001b[1;37m                               ^\u001b[0m\n\u001b[1;31mSyntaxError\u001b[0m\u001b[1;31m:\u001b[0m invalid syntax\n"
     ]
    }
   ],
   "source": [
    "def premier_kpi(ecart , risque, indice_boursiere):\n",
    "    return ecart*risque/indice indice_boursiere\n",
    "  "
   ]
  },
  {
   "cell_type": "code",
   "execution_count": 8,
   "id": "b48c0ed4",
   "metadata": {},
   "outputs": [
    {
     "ename": "NameError",
     "evalue": "name 'premier_kpi' is not defined",
     "output_type": "error",
     "traceback": [
      "\u001b[1;31m---------------------------------------------------------------------------\u001b[0m",
      "\u001b[1;31mNameError\u001b[0m                                 Traceback (most recent call last)",
      "Cell \u001b[1;32mIn[8], line 1\u001b[0m\n\u001b[1;32m----> 1\u001b[0m \u001b[38;5;28mprint\u001b[39m(\u001b[43mpremier_kpi\u001b[49m(\u001b[38;5;241m2000\u001b[39m,\u001b[38;5;241m20\u001b[39m,\u001b[38;5;241m0.5\u001b[39m))\n",
      "\u001b[1;31mNameError\u001b[0m: name 'premier_kpi' is not defined"
     ]
    }
   ],
   "source": [
    "print(premier_kpi(2000,20,0.5))"
   ]
  },
  {
   "cell_type": "code",
   "execution_count": 19,
   "id": "9b8642a3",
   "metadata": {},
   "outputs": [],
   "source": [
    "def premier_kpi(a,b, c):\n",
    "    return a*b*c, deuxieme_kpi(a,b,c), (a/b)/c\n",
    "def deuxieme_kpi(a1,b1, c1):\n",
    "    return a1+b1+c1\n",
    "#def troisieme_kpi(a,b, c):\n",
    "#    return a*b*c, a+b+c, (a/b)/c"
   ]
  },
  {
   "cell_type": "code",
   "execution_count": 20,
   "id": "28a73a32",
   "metadata": {},
   "outputs": [],
   "source": [
    "r1,r2, r3=premier_kpi(1,2,3)"
   ]
  },
  {
   "cell_type": "code",
   "execution_count": 21,
   "id": "5087b415",
   "metadata": {},
   "outputs": [
    {
     "name": "stdout",
     "output_type": "stream",
     "text": [
      "6\n",
      "6\n",
      "0.16666666666666666\n"
     ]
    }
   ],
   "source": [
    "print(r1)\n",
    "print(r2)\n",
    "print(r3)"
   ]
  },
  {
   "cell_type": "code",
   "execution_count": 24,
   "id": "2013ed72",
   "metadata": {},
   "outputs": [],
   "source": [
    "r11,r12, r13=premier_kpi(c=6,a=4,b=1)"
   ]
  },
  {
   "cell_type": "code",
   "execution_count": 25,
   "id": "a12ab8c0",
   "metadata": {},
   "outputs": [
    {
     "name": "stdout",
     "output_type": "stream",
     "text": [
      "24\n",
      "11\n",
      "0.6666666666666666\n"
     ]
    }
   ],
   "source": [
    "print(r11)\n",
    "print(r12)\n",
    "print(r13)"
   ]
  },
  {
   "cell_type": "code",
   "execution_count": null,
   "id": "bdd0aa7b",
   "metadata": {},
   "outputs": [],
   "source": [
    "def "
   ]
  }
 ],
 "metadata": {
  "kernelspec": {
   "display_name": "Python 3 (ipykernel)",
   "language": "python",
   "name": "python3"
  },
  "language_info": {
   "codemirror_mode": {
    "name": "ipython",
    "version": 3
   },
   "file_extension": ".py",
   "mimetype": "text/x-python",
   "name": "python",
   "nbconvert_exporter": "python",
   "pygments_lexer": "ipython3",
   "version": "3.10.9"
  }
 },
 "nbformat": 4,
 "nbformat_minor": 5
}
